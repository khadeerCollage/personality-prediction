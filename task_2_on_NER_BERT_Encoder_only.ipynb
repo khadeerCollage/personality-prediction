{
 "cells": [
  {
   "cell_type": "markdown",
   "id": "0799dde4",
   "metadata": {},
   "source": [
    "# Task 2: Named Entity Recognition with BERT (Encoder-Only)"
   ]
  },
  {
   "cell_type": "markdown",
   "id": "4971cfc6",
   "metadata": {},
   "source": [
    "## What is NER?\n",
    "NER identifies entities like names, places, dates, etc. in text."
   ]
  },
  {
   "cell_type": "code",
   "execution_count": null,
   "id": "4e9402f8",
   "metadata": {},
   "outputs": [],
   "source": []
  },
  {
   "cell_type": "markdown",
   "id": "55a1cff3",
   "metadata": {},
   "source": [
    "## Load Hugging Face NER Pipeline"
   ]
  },
  {
   "cell_type": "code",
   "execution_count": null,
   "id": "483e9b4a",
   "metadata": {},
   "outputs": [],
   "source": [
    "from transformers import pipeline\n",
    "ner = pipeline('ner', grouped_entities=True)"
   ]
  },
  {
   "cell_type": "markdown",
   "id": "aa26b827",
   "metadata": {},
   "source": [
    "## Try NER on an example sentence"
   ]
  },
  {
   "cell_type": "code",
   "execution_count": null,
   "id": "509c09e2",
   "metadata": {},
   "outputs": [],
   "source": [
    "text = 'Barack Obama visited Microsoft in New York in 2007.'\n",
    "entities = ner(text)\n",
    "print(entities)"
   ]
  }
 ],
 "metadata": {},
 "nbformat": 4,
 "nbformat_minor": 5
}
