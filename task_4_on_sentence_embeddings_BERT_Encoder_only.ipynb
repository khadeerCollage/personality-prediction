{
 "cells": [
  {
   "cell_type": "markdown",
   "id": "e1ab4f1b",
   "metadata": {},
   "source": [
    "# Task 4: Sentence Embeddings using BERT (Encoder-Only)"
   ]
  },
  {
   "cell_type": "markdown",
   "id": "c564d4a4",
   "metadata": {},
   "source": [
    "## What are Sentence Embeddings?\n",
    "Numeric vectors representing semantic meaning of a sentence."
   ]
  },
  {
   "cell_type": "code",
   "execution_count": null,
   "id": "8b91b557",
   "metadata": {},
   "outputs": [],
   "source": []
  },
  {
   "cell_type": "markdown",
   "id": "693bd7ad",
   "metadata": {},
   "source": [
    "## Generate Embedding for a Sentence"
   ]
  },
  {
   "cell_type": "code",
   "execution_count": null,
   "id": "38a21345",
   "metadata": {},
   "outputs": [],
   "source": [
    "from sentence_transformers import SentenceTransformer\n",
    "model = SentenceTransformer('all-MiniLM-L6-v2')"
   ]
  },
  {
   "cell_type": "markdown",
   "id": "8045b0f1",
   "metadata": {},
   "source": [
    "## Print First Few Values of the Vector"
   ]
  },
  {
   "cell_type": "code",
   "execution_count": null,
   "id": "4743ee3d",
   "metadata": {},
   "outputs": [],
   "source": [
    "sentence = 'BERT provides contextual word embeddings.'\n",
    "embedding = model.encode(sentence)\n",
    "print('Embedding[:5]:', embedding[:5])"
   ]
  }
 ],
 "metadata": {},
 "nbformat": 4,
 "nbformat_minor": 5
}
