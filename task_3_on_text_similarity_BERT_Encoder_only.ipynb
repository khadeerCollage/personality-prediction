{
 "cells": [
  {
   "cell_type": "markdown",
   "id": "aeba9fc8",
   "metadata": {},
   "source": [
    "# Task 3: Text Similarity using Sentence-BERT"
   ]
  },
  {
   "cell_type": "markdown",
   "id": "4a28e091",
   "metadata": {},
   "source": [
    "## What is Text Similarity?\n",
    "Measure how semantically close two sentences are."
   ]
  },
  {
   "cell_type": "code",
   "execution_count": null,
   "id": "2edc0527",
   "metadata": {},
   "outputs": [],
   "source": []
  },
  {
   "cell_type": "markdown",
   "id": "00b3355a",
   "metadata": {},
   "source": [
    "## Load SentenceTransformer and Compare Sentences"
   ]
  },
  {
   "cell_type": "code",
   "execution_count": null,
   "id": "176b5767",
   "metadata": {},
   "outputs": [],
   "source": [
    "from sentence_transformers import SentenceTransformer, util\n",
    "model = SentenceTransformer('all-MiniLM-L6-v2')"
   ]
  },
  {
   "cell_type": "markdown",
   "id": "0b73d99e",
   "metadata": {},
   "source": [
    "## Output Similarity Score"
   ]
  },
  {
   "cell_type": "code",
   "execution_count": null,
   "id": "e33bb741",
   "metadata": {},
   "outputs": [],
   "source": [
    "sentences = ['I love cats.', 'Cats are adorable pets.']\n",
    "embeddings = model.encode(sentences, convert_to_tensor=True)\n",
    "similarity = util.pytorch_cos_sim(embeddings[0], embeddings[1])\n",
    "print('Similarity:', similarity.item())"
   ]
  }
 ],
 "metadata": {},
 "nbformat": 4,
 "nbformat_minor": 5
}
